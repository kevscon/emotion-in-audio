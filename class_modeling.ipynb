{
 "cells": [
  {
   "cell_type": "markdown",
   "metadata": {},
   "source": [
    "# RAVDESS\n",
    "Train and test the RAVDESS dataset using librosa"
   ]
  },
  {
   "cell_type": "code",
   "execution_count": 11,
   "metadata": {},
   "outputs": [],
   "source": [
    "import librosa\n",
    "import librosa.display\n",
    "import pandas as pd\n",
    "import numpy as np\n",
    "import matplotlib.pylab as plt\n",
    "from sklearn import preprocessing"
   ]
  },
  {
   "cell_type": "code",
   "execution_count": 12,
   "metadata": {},
   "outputs": [],
   "source": [
    "import pickle"
   ]
  },
  {
   "cell_type": "markdown",
   "metadata": {},
   "source": [
    "## Import feature dataframe"
   ]
  },
  {
   "cell_type": "code",
   "execution_count": 13,
   "metadata": {},
   "outputs": [],
   "source": [
    "pickle_in = open(\"ravdess.pickle\", \"rb\")  \n",
    "feat_df = pickle.load(pickle_in)"
   ]
  },
  {
   "cell_type": "code",
   "execution_count": 17,
   "metadata": {},
   "outputs": [
    {
     "data": {
      "text/plain": [
       "(1440, 3013)"
      ]
     },
     "execution_count": 17,
     "metadata": {},
     "output_type": "execute_result"
    }
   ],
   "source": [
    "feat_df.shape"
   ]
  },
  {
   "cell_type": "markdown",
   "metadata": {},
   "source": [
    "## Create test/train datasets"
   ]
  },
  {
   "cell_type": "code",
   "execution_count": 19,
   "metadata": {},
   "outputs": [],
   "source": [
    "from sklearn.utils import shuffle\n",
    "from sklearn.model_selection import train_test_split"
   ]
  },
  {
   "cell_type": "code",
   "execution_count": 20,
   "metadata": {},
   "outputs": [],
   "source": [
    "# shuffle dataframe\n",
    "shuff_df = shuffle(feat_df, random_state=42)"
   ]
  },
  {
   "cell_type": "code",
   "execution_count": 21,
   "metadata": {},
   "outputs": [],
   "source": [
    "# fill nans with 0\n",
    "shuff_df.fillna(0, inplace=True);"
   ]
  },
  {
   "cell_type": "code",
   "execution_count": 22,
   "metadata": {},
   "outputs": [],
   "source": [
    "# split data into test and train sets\n",
    "X_train, X_test, y_train, y_test = train_test_split(shuff_df.iloc[:, 0:-1], \n",
    "                                                    shuff_df.iloc[:, -1], \n",
    "                                                    test_size=0.2, \n",
    "                                                    random_state=42)"
   ]
  },
  {
   "cell_type": "code",
   "execution_count": 23,
   "metadata": {},
   "outputs": [
    {
     "data": {
      "text/html": [
       "<div>\n",
       "<style scoped>\n",
       "    .dataframe tbody tr th:only-of-type {\n",
       "        vertical-align: middle;\n",
       "    }\n",
       "\n",
       "    .dataframe tbody tr th {\n",
       "        vertical-align: top;\n",
       "    }\n",
       "\n",
       "    .dataframe thead th {\n",
       "        text-align: right;\n",
       "    }\n",
       "</style>\n",
       "<table border=\"1\" class=\"dataframe\">\n",
       "  <thead>\n",
       "    <tr style=\"text-align: right;\">\n",
       "      <th></th>\n",
       "      <th>0</th>\n",
       "      <th>1</th>\n",
       "      <th>2</th>\n",
       "      <th>3</th>\n",
       "      <th>4</th>\n",
       "      <th>5</th>\n",
       "      <th>6</th>\n",
       "      <th>7</th>\n",
       "      <th>8</th>\n",
       "      <th>9</th>\n",
       "      <th>...</th>\n",
       "      <th>3002</th>\n",
       "      <th>3003</th>\n",
       "      <th>3004</th>\n",
       "      <th>3005</th>\n",
       "      <th>3006</th>\n",
       "      <th>3007</th>\n",
       "      <th>3008</th>\n",
       "      <th>3009</th>\n",
       "      <th>3010</th>\n",
       "      <th>3011</th>\n",
       "    </tr>\n",
       "  </thead>\n",
       "  <tbody>\n",
       "    <tr>\n",
       "      <th>476</th>\n",
       "      <td>-1.137741</td>\n",
       "      <td>-1.137741</td>\n",
       "      <td>-1.137741</td>\n",
       "      <td>-1.137741</td>\n",
       "      <td>-1.137741</td>\n",
       "      <td>-1.137741</td>\n",
       "      <td>-1.137741</td>\n",
       "      <td>-1.135654</td>\n",
       "      <td>-0.755279</td>\n",
       "      <td>-0.787950</td>\n",
       "      <td>...</td>\n",
       "      <td>-0.005367</td>\n",
       "      <td>-0.118071</td>\n",
       "      <td>-0.234989</td>\n",
       "      <td>0.404110</td>\n",
       "      <td>-0.150718</td>\n",
       "      <td>0.336893</td>\n",
       "      <td>0.004215</td>\n",
       "      <td>0.020264</td>\n",
       "      <td>0.095346</td>\n",
       "      <td>0.147746</td>\n",
       "    </tr>\n",
       "    <tr>\n",
       "      <th>165</th>\n",
       "      <td>-0.806056</td>\n",
       "      <td>-0.451760</td>\n",
       "      <td>-0.521320</td>\n",
       "      <td>-1.187864</td>\n",
       "      <td>-0.580390</td>\n",
       "      <td>-0.736833</td>\n",
       "      <td>-0.960364</td>\n",
       "      <td>-1.093079</td>\n",
       "      <td>-0.814147</td>\n",
       "      <td>-0.739474</td>\n",
       "      <td>...</td>\n",
       "      <td>1.018340</td>\n",
       "      <td>0.362166</td>\n",
       "      <td>0.491419</td>\n",
       "      <td>0.493331</td>\n",
       "      <td>-0.044168</td>\n",
       "      <td>0.153172</td>\n",
       "      <td>0.418012</td>\n",
       "      <td>0.286294</td>\n",
       "      <td>0.420857</td>\n",
       "      <td>0.286240</td>\n",
       "    </tr>\n",
       "    <tr>\n",
       "      <th>892</th>\n",
       "      <td>-1.005026</td>\n",
       "      <td>-0.995199</td>\n",
       "      <td>-0.977661</td>\n",
       "      <td>-0.941526</td>\n",
       "      <td>-0.863234</td>\n",
       "      <td>-1.011180</td>\n",
       "      <td>-0.997660</td>\n",
       "      <td>-1.049385</td>\n",
       "      <td>-0.970068</td>\n",
       "      <td>-0.957406</td>\n",
       "      <td>...</td>\n",
       "      <td>1.017802</td>\n",
       "      <td>0.861882</td>\n",
       "      <td>0.992942</td>\n",
       "      <td>0.953610</td>\n",
       "      <td>0.861716</td>\n",
       "      <td>0.883808</td>\n",
       "      <td>0.884896</td>\n",
       "      <td>1.379876</td>\n",
       "      <td>1.148302</td>\n",
       "      <td>0.716343</td>\n",
       "    </tr>\n",
       "    <tr>\n",
       "      <th>367</th>\n",
       "      <td>-1.016982</td>\n",
       "      <td>-0.938150</td>\n",
       "      <td>-0.940884</td>\n",
       "      <td>-0.971534</td>\n",
       "      <td>-0.886782</td>\n",
       "      <td>-1.008615</td>\n",
       "      <td>-1.048366</td>\n",
       "      <td>-0.952793</td>\n",
       "      <td>-0.937064</td>\n",
       "      <td>-1.076166</td>\n",
       "      <td>...</td>\n",
       "      <td>0.593987</td>\n",
       "      <td>0.807309</td>\n",
       "      <td>0.942128</td>\n",
       "      <td>0.406368</td>\n",
       "      <td>0.412704</td>\n",
       "      <td>0.662555</td>\n",
       "      <td>0.751996</td>\n",
       "      <td>0.643216</td>\n",
       "      <td>0.692916</td>\n",
       "      <td>0.972783</td>\n",
       "    </tr>\n",
       "    <tr>\n",
       "      <th>530</th>\n",
       "      <td>-1.199059</td>\n",
       "      <td>-1.079020</td>\n",
       "      <td>-1.050394</td>\n",
       "      <td>-0.998611</td>\n",
       "      <td>-0.788211</td>\n",
       "      <td>-0.903109</td>\n",
       "      <td>-0.857032</td>\n",
       "      <td>-0.853253</td>\n",
       "      <td>-0.757049</td>\n",
       "      <td>-0.879457</td>\n",
       "      <td>...</td>\n",
       "      <td>0.914360</td>\n",
       "      <td>1.201183</td>\n",
       "      <td>1.830611</td>\n",
       "      <td>1.778638</td>\n",
       "      <td>1.449676</td>\n",
       "      <td>1.209666</td>\n",
       "      <td>1.193823</td>\n",
       "      <td>1.386919</td>\n",
       "      <td>1.532290</td>\n",
       "      <td>0.959098</td>\n",
       "    </tr>\n",
       "  </tbody>\n",
       "</table>\n",
       "<p>5 rows × 3012 columns</p>\n",
       "</div>"
      ],
      "text/plain": [
       "         0         1         2         3         4         5         6     \\\n",
       "476 -1.137741 -1.137741 -1.137741 -1.137741 -1.137741 -1.137741 -1.137741   \n",
       "165 -0.806056 -0.451760 -0.521320 -1.187864 -0.580390 -0.736833 -0.960364   \n",
       "892 -1.005026 -0.995199 -0.977661 -0.941526 -0.863234 -1.011180 -0.997660   \n",
       "367 -1.016982 -0.938150 -0.940884 -0.971534 -0.886782 -1.008615 -1.048366   \n",
       "530 -1.199059 -1.079020 -1.050394 -0.998611 -0.788211 -0.903109 -0.857032   \n",
       "\n",
       "         7         8         9       ...         3002      3003      3004  \\\n",
       "476 -1.135654 -0.755279 -0.787950    ...    -0.005367 -0.118071 -0.234989   \n",
       "165 -1.093079 -0.814147 -0.739474    ...     1.018340  0.362166  0.491419   \n",
       "892 -1.049385 -0.970068 -0.957406    ...     1.017802  0.861882  0.992942   \n",
       "367 -0.952793 -0.937064 -1.076166    ...     0.593987  0.807309  0.942128   \n",
       "530 -0.853253 -0.757049 -0.879457    ...     0.914360  1.201183  1.830611   \n",
       "\n",
       "         3005      3006      3007      3008      3009      3010      3011  \n",
       "476  0.404110 -0.150718  0.336893  0.004215  0.020264  0.095346  0.147746  \n",
       "165  0.493331 -0.044168  0.153172  0.418012  0.286294  0.420857  0.286240  \n",
       "892  0.953610  0.861716  0.883808  0.884896  1.379876  1.148302  0.716343  \n",
       "367  0.406368  0.412704  0.662555  0.751996  0.643216  0.692916  0.972783  \n",
       "530  1.778638  1.449676  1.209666  1.193823  1.386919  1.532290  0.959098  \n",
       "\n",
       "[5 rows x 3012 columns]"
      ]
     },
     "execution_count": 23,
     "metadata": {},
     "output_type": "execute_result"
    }
   ],
   "source": [
    "X_train.head()"
   ]
  },
  {
   "cell_type": "code",
   "execution_count": 24,
   "metadata": {},
   "outputs": [
    {
     "data": {
      "text/plain": [
       "476      happy\n",
       "165       calm\n",
       "892    fearful\n",
       "367      happy\n",
       "530        sad\n",
       "Name: emotion_label, dtype: object"
      ]
     },
     "execution_count": 24,
     "metadata": {},
     "output_type": "execute_result"
    }
   ],
   "source": [
    "y_train.head()"
   ]
  },
  {
   "cell_type": "code",
   "execution_count": 25,
   "metadata": {
    "scrolled": false
   },
   "outputs": [
    {
     "data": {
      "text/html": [
       "<div>\n",
       "<style scoped>\n",
       "    .dataframe tbody tr th:only-of-type {\n",
       "        vertical-align: middle;\n",
       "    }\n",
       "\n",
       "    .dataframe tbody tr th {\n",
       "        vertical-align: top;\n",
       "    }\n",
       "\n",
       "    .dataframe thead th {\n",
       "        text-align: right;\n",
       "    }\n",
       "</style>\n",
       "<table border=\"1\" class=\"dataframe\">\n",
       "  <thead>\n",
       "    <tr style=\"text-align: right;\">\n",
       "      <th></th>\n",
       "      <th>0</th>\n",
       "      <th>1</th>\n",
       "      <th>2</th>\n",
       "      <th>3</th>\n",
       "      <th>4</th>\n",
       "      <th>5</th>\n",
       "      <th>6</th>\n",
       "      <th>7</th>\n",
       "      <th>8</th>\n",
       "      <th>9</th>\n",
       "      <th>...</th>\n",
       "      <th>3002</th>\n",
       "      <th>3003</th>\n",
       "      <th>3004</th>\n",
       "      <th>3005</th>\n",
       "      <th>3006</th>\n",
       "      <th>3007</th>\n",
       "      <th>3008</th>\n",
       "      <th>3009</th>\n",
       "      <th>3010</th>\n",
       "      <th>3011</th>\n",
       "    </tr>\n",
       "  </thead>\n",
       "  <tbody>\n",
       "    <tr>\n",
       "      <th>203</th>\n",
       "      <td>-1.293109</td>\n",
       "      <td>-1.293109</td>\n",
       "      <td>-1.293109</td>\n",
       "      <td>-1.293109</td>\n",
       "      <td>-1.293109</td>\n",
       "      <td>-1.293109</td>\n",
       "      <td>-1.293109</td>\n",
       "      <td>-1.289473</td>\n",
       "      <td>-1.246201</td>\n",
       "      <td>-1.531030</td>\n",
       "      <td>...</td>\n",
       "      <td>0.019344</td>\n",
       "      <td>-0.987022</td>\n",
       "      <td>-0.367719</td>\n",
       "      <td>-1.110641</td>\n",
       "      <td>-1.634195</td>\n",
       "      <td>-1.325273</td>\n",
       "      <td>-1.047410</td>\n",
       "      <td>0.017383</td>\n",
       "      <td>0.116741</td>\n",
       "      <td>0.307699</td>\n",
       "    </tr>\n",
       "    <tr>\n",
       "      <th>311</th>\n",
       "      <td>-1.094878</td>\n",
       "      <td>-1.094878</td>\n",
       "      <td>-1.094878</td>\n",
       "      <td>-1.094878</td>\n",
       "      <td>-1.094878</td>\n",
       "      <td>-1.094878</td>\n",
       "      <td>-1.094878</td>\n",
       "      <td>-1.094878</td>\n",
       "      <td>-1.094878</td>\n",
       "      <td>-1.094878</td>\n",
       "      <td>...</td>\n",
       "      <td>0.769931</td>\n",
       "      <td>1.055663</td>\n",
       "      <td>0.389687</td>\n",
       "      <td>1.052431</td>\n",
       "      <td>1.098841</td>\n",
       "      <td>1.131269</td>\n",
       "      <td>1.109184</td>\n",
       "      <td>1.107196</td>\n",
       "      <td>1.011312</td>\n",
       "      <td>1.000297</td>\n",
       "    </tr>\n",
       "    <tr>\n",
       "      <th>5</th>\n",
       "      <td>-1.298954</td>\n",
       "      <td>-1.263344</td>\n",
       "      <td>-1.144272</td>\n",
       "      <td>-1.293848</td>\n",
       "      <td>-1.020600</td>\n",
       "      <td>-1.188165</td>\n",
       "      <td>-1.196424</td>\n",
       "      <td>-1.106546</td>\n",
       "      <td>-1.149027</td>\n",
       "      <td>-1.143802</td>\n",
       "      <td>...</td>\n",
       "      <td>0.691870</td>\n",
       "      <td>0.697725</td>\n",
       "      <td>0.605531</td>\n",
       "      <td>0.679901</td>\n",
       "      <td>0.899505</td>\n",
       "      <td>0.806052</td>\n",
       "      <td>1.044136</td>\n",
       "      <td>0.557393</td>\n",
       "      <td>0.973441</td>\n",
       "      <td>1.437218</td>\n",
       "    </tr>\n",
       "    <tr>\n",
       "      <th>198</th>\n",
       "      <td>-1.295814</td>\n",
       "      <td>-1.081157</td>\n",
       "      <td>-1.310013</td>\n",
       "      <td>-1.314510</td>\n",
       "      <td>-1.252583</td>\n",
       "      <td>-1.287449</td>\n",
       "      <td>-1.321579</td>\n",
       "      <td>-1.632728</td>\n",
       "      <td>-1.369345</td>\n",
       "      <td>-1.435890</td>\n",
       "      <td>...</td>\n",
       "      <td>-0.675221</td>\n",
       "      <td>-0.058680</td>\n",
       "      <td>0.210139</td>\n",
       "      <td>0.278220</td>\n",
       "      <td>0.194024</td>\n",
       "      <td>1.866050</td>\n",
       "      <td>3.431584</td>\n",
       "      <td>1.504291</td>\n",
       "      <td>0.630695</td>\n",
       "      <td>-0.501582</td>\n",
       "    </tr>\n",
       "    <tr>\n",
       "      <th>120</th>\n",
       "      <td>-1.351795</td>\n",
       "      <td>-1.351795</td>\n",
       "      <td>-1.328592</td>\n",
       "      <td>-1.351795</td>\n",
       "      <td>-1.351795</td>\n",
       "      <td>-1.351795</td>\n",
       "      <td>-1.351795</td>\n",
       "      <td>-1.304018</td>\n",
       "      <td>-1.294368</td>\n",
       "      <td>-1.351795</td>\n",
       "      <td>...</td>\n",
       "      <td>-0.135700</td>\n",
       "      <td>-0.241063</td>\n",
       "      <td>-0.546274</td>\n",
       "      <td>-0.257327</td>\n",
       "      <td>0.080626</td>\n",
       "      <td>-0.095705</td>\n",
       "      <td>-0.067215</td>\n",
       "      <td>-0.086048</td>\n",
       "      <td>-0.122995</td>\n",
       "      <td>-0.119630</td>\n",
       "    </tr>\n",
       "  </tbody>\n",
       "</table>\n",
       "<p>5 rows × 3012 columns</p>\n",
       "</div>"
      ],
      "text/plain": [
       "         0         1         2         3         4         5         6     \\\n",
       "203 -1.293109 -1.293109 -1.293109 -1.293109 -1.293109 -1.293109 -1.293109   \n",
       "311 -1.094878 -1.094878 -1.094878 -1.094878 -1.094878 -1.094878 -1.094878   \n",
       "5   -1.298954 -1.263344 -1.144272 -1.293848 -1.020600 -1.188165 -1.196424   \n",
       "198 -1.295814 -1.081157 -1.310013 -1.314510 -1.252583 -1.287449 -1.321579   \n",
       "120 -1.351795 -1.351795 -1.328592 -1.351795 -1.351795 -1.351795 -1.351795   \n",
       "\n",
       "         7         8         9       ...         3002      3003      3004  \\\n",
       "203 -1.289473 -1.246201 -1.531030    ...     0.019344 -0.987022 -0.367719   \n",
       "311 -1.094878 -1.094878 -1.094878    ...     0.769931  1.055663  0.389687   \n",
       "5   -1.106546 -1.149027 -1.143802    ...     0.691870  0.697725  0.605531   \n",
       "198 -1.632728 -1.369345 -1.435890    ...    -0.675221 -0.058680  0.210139   \n",
       "120 -1.304018 -1.294368 -1.351795    ...    -0.135700 -0.241063 -0.546274   \n",
       "\n",
       "         3005      3006      3007      3008      3009      3010      3011  \n",
       "203 -1.110641 -1.634195 -1.325273 -1.047410  0.017383  0.116741  0.307699  \n",
       "311  1.052431  1.098841  1.131269  1.109184  1.107196  1.011312  1.000297  \n",
       "5    0.679901  0.899505  0.806052  1.044136  0.557393  0.973441  1.437218  \n",
       "198  0.278220  0.194024  1.866050  3.431584  1.504291  0.630695 -0.501582  \n",
       "120 -0.257327  0.080626 -0.095705 -0.067215 -0.086048 -0.122995 -0.119630  \n",
       "\n",
       "[5 rows x 3012 columns]"
      ]
     },
     "execution_count": 25,
     "metadata": {},
     "output_type": "execute_result"
    }
   ],
   "source": [
    "X_test.head()"
   ]
  },
  {
   "cell_type": "code",
   "execution_count": 26,
   "metadata": {},
   "outputs": [
    {
     "data": {
      "text/plain": [
       "203       calm\n",
       "311      happy\n",
       "5      neutral\n",
       "198       calm\n",
       "120       calm\n",
       "Name: emotion_label, dtype: object"
      ]
     },
     "execution_count": 26,
     "metadata": {},
     "output_type": "execute_result"
    }
   ],
   "source": [
    "y_test.head()"
   ]
  },
  {
   "cell_type": "markdown",
   "metadata": {},
   "source": [
    "# SVM Classifier Modeling"
   ]
  },
  {
   "cell_type": "code",
   "execution_count": 27,
   "metadata": {},
   "outputs": [],
   "source": [
    "from sklearn import svm\n",
    "from sklearn import metrics"
   ]
  },
  {
   "cell_type": "markdown",
   "metadata": {},
   "source": [
    "### Polynomial SVM"
   ]
  },
  {
   "cell_type": "code",
   "execution_count": 28,
   "metadata": {},
   "outputs": [
    {
     "data": {
      "text/plain": [
       "SVC(C=10, cache_size=200, class_weight=None, coef0=0.0,\n",
       "  decision_function_shape='ovr', degree=2, gamma=0.001, kernel='poly',\n",
       "  max_iter=-1, probability=True, random_state=42, shrinking=True,\n",
       "  tol=0.001, verbose=False)"
      ]
     },
     "execution_count": 28,
     "metadata": {},
     "output_type": "execute_result"
    }
   ],
   "source": [
    "# optimized parameters using gridsearch\n",
    "poly_svm = svm.SVC(kernel='poly', degree=2, C=10, gamma=0.001, probability=True, random_state=42)\n",
    "poly_svm.fit(X_train, y_train)"
   ]
  },
  {
   "cell_type": "markdown",
   "metadata": {},
   "source": [
    "## Accuracy and Confusion Matrix"
   ]
  },
  {
   "cell_type": "markdown",
   "metadata": {},
   "source": [
    "### Output Metrics"
   ]
  },
  {
   "cell_type": "code",
   "execution_count": 24,
   "metadata": {
    "scrolled": true
   },
   "outputs": [
    {
     "name": "stdout",
     "output_type": "stream",
     "text": [
      "Accuracy: 0.594\n",
      "             precision    recall  f1-score   support\n",
      "\n",
      "      angry       0.55      0.76      0.64        37\n",
      "       calm       0.79      0.74      0.77        42\n",
      "    disgust       0.57      0.60      0.58        35\n",
      "    fearful       0.64      0.60      0.62        30\n",
      "      happy       0.53      0.48      0.50        42\n",
      "    neutral       0.86      0.57      0.69        21\n",
      "        sad       0.55      0.55      0.55        44\n",
      "  surprised       0.46      0.46      0.46        37\n",
      "\n",
      "avg / total       0.60      0.59      0.59       288\n",
      "\n"
     ]
    }
   ],
   "source": [
    "print(\"Accuracy: %.3f\"% metrics.accuracy_score(y_test, poly_svm.predict(X_test)))\n",
    "print(metrics.classification_report(y_test, poly_svm.predict(X_test)))"
   ]
  },
  {
   "cell_type": "code",
   "execution_count": 25,
   "metadata": {},
   "outputs": [],
   "source": [
    "svm_cm = metrics.confusion_matrix(y_test, poly_svm.predict(X_test))"
   ]
  },
  {
   "cell_type": "code",
   "execution_count": 26,
   "metadata": {},
   "outputs": [
    {
     "data": {
      "text/plain": [
       "array([[28,  0,  2,  0,  2,  1,  1,  3],\n",
       "       [ 1, 31,  4,  0,  2,  0,  4,  0],\n",
       "       [ 8,  0, 21,  1,  0,  0,  5,  0],\n",
       "       [ 1,  2,  1, 18,  1,  0,  2,  5],\n",
       "       [ 6,  0,  1,  1, 20,  0,  4, 10],\n",
       "       [ 0,  4,  0,  1,  3, 12,  0,  1],\n",
       "       [ 6,  1,  3,  3,  5,  1, 24,  1],\n",
       "       [ 1,  1,  5,  4,  5,  0,  4, 17]])"
      ]
     },
     "execution_count": 26,
     "metadata": {},
     "output_type": "execute_result"
    }
   ],
   "source": [
    "svm_cm"
   ]
  },
  {
   "cell_type": "markdown",
   "metadata": {},
   "source": [
    "### Plot confusion matrix"
   ]
  },
  {
   "cell_type": "code",
   "execution_count": 28,
   "metadata": {},
   "outputs": [],
   "source": [
    "df_cm = pd.DataFrame(svm_cm, index = [i for i in poly_svm.classes_],\n",
    "                  columns = [i for i in poly_svm.classes_])"
   ]
  },
  {
   "cell_type": "code",
   "execution_count": 30,
   "metadata": {},
   "outputs": [],
   "source": [
    "# normalize data for heatmap\n",
    "df_norm_cm=(df_cm-df_cm.mean())/df_cm.std()"
   ]
  },
  {
   "cell_type": "code",
   "execution_count": 27,
   "metadata": {},
   "outputs": [],
   "source": [
    "import seaborn as sns"
   ]
  },
  {
   "cell_type": "code",
   "execution_count": 31,
   "metadata": {},
   "outputs": [
    {
     "data": {
      "image/png": "[encoded data removed]",
      "text/plain": [
       "<matplotlib.figure.Figure at 0x1c29d8cba8>"
      ]
     },
     "metadata": {},
     "output_type": "display_data"
    }
   ],
   "source": [
    "plt.figure(figsize = (10,7))\n",
    "sns.set(font_scale=1.4)#for label size\n",
    "cmap = sns.cm.rocket_r\n",
    "cm_hm = sns.heatmap(df_norm_cm, cmap=cmap)# font size"
   ]
  },
  {
   "cell_type": "markdown",
   "metadata": {},
   "source": [
    "## Export trained SVM model"
   ]
  },
  {
   "cell_type": "code",
   "execution_count": 38,
   "metadata": {},
   "outputs": [],
   "source": [
    "with open(\"emo_pred.pkl\", \"wb\") as f:\n",
    "    pickle.dump(poly_svm, f)"
   ]
  },
  {
   "cell_type": "code",
   "execution_count": null,
   "metadata": {},
   "outputs": [],
   "source": [
    "with open(\"labels.pkl\", \"wb\") as f:\n",
    "    pickle.dump(poly_svm.classes_, f)"
   ]
  }
 ],
 "metadata": {
  "kernelspec": {
   "display_name": "Python 3",
   "language": "python",
   "name": "python3"
  },
  "language_info": {
   "codemirror_mode": {
    "name": "ipython",
    "version": 3
   },
   "file_extension": ".py",
   "mimetype": "text/x-python",
   "name": "python",
   "nbconvert_exporter": "python",
   "pygments_lexer": "ipython3",
   "version": "3.6.4"
  }
 },
 "nbformat": 4,
 "nbformat_minor": 2
}
