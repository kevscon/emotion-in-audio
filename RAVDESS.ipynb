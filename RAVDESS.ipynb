{
 "cells": [
  {
   "cell_type": "markdown",
   "metadata": {},
   "source": [
    "# RAVDESS\n",
    "Calculate audio features from dataset and export to dataframe for modeling in another notebook."
   ]
  },
  {
   "cell_type": "code",
   "execution_count": 1,
   "metadata": {},
   "outputs": [],
   "source": [
    "import librosa\n",
    "import librosa.display\n",
    "import pandas as pd\n",
    "import numpy as np\n",
    "import matplotlib.pylab as plt\n",
    "from sklearn import preprocessing"
   ]
  },
  {
   "cell_type": "code",
   "execution_count": 2,
   "metadata": {},
   "outputs": [],
   "source": [
    "import  os"
   ]
  },
  {
   "cell_type": "markdown",
   "metadata": {},
   "source": [
    "# Data Processing"
   ]
  },
  {
   "cell_type": "markdown",
   "metadata": {},
   "source": [
    "## Load and Label Data Set"
   ]
  },
  {
   "cell_type": "code",
   "execution_count": 3,
   "metadata": {},
   "outputs": [],
   "source": [
    "# read in data files\n",
    "\n",
    "files = sorted(os.listdir('data/RAVDESS/'))"
   ]
  },
  {
   "cell_type": "code",
   "execution_count": 4,
   "metadata": {},
   "outputs": [],
   "source": [
    "# apply labels based on filename coding\n",
    "\n",
    "emotion_labels = []\n",
    "\n",
    "for file in files:\n",
    "    \n",
    "    if file[6:8]=='01' and int(file[18:20])%2==0:\n",
    "        emotion_labels.append('neutral')\n",
    "    elif file[6:8]=='01' and int(file[18:20])%2==1:\n",
    "        emotion_labels.append('neutral')\n",
    "    elif file[6:8]=='02' and int(file[18:20])%2==0:\n",
    "        emotion_labels.append('calm')\n",
    "    elif file[6:8]=='02' and int(file[18:20])%2==1:\n",
    "        emotion_labels.append('calm')\n",
    "    elif file[6:8]=='03' and int(file[18:20])%2==0:\n",
    "        emotion_labels.append('happy')\n",
    "    elif file[6:8]=='03' and int(file[18:20])%2==1:\n",
    "        emotion_labels.append('happy')\n",
    "    elif file[6:8]=='04' and int(file[18:20])%2==0:\n",
    "        emotion_labels.append('sad')\n",
    "    elif file[6:8]=='04' and int(file[18:20])%2==1:\n",
    "        emotion_labels.append('sad')\n",
    "    elif file[6:8]=='05' and int(file[18:20])%2==0:\n",
    "        emotion_labels.append('angry')\n",
    "    elif file[6:8]=='05' and int(file[18:20])%2==1:\n",
    "        emotion_labels.append('angry')\n",
    "    elif file[6:8]=='06' and int(file[18:20])%2==0:\n",
    "        emotion_labels.append('fearful')\n",
    "    elif file[6:8]=='06' and int(file[18:20])%2==1:\n",
    "        emotion_labels.append('fearful')\n",
    "    elif file[6:8]=='07' and int(file[18:20])%2==0:\n",
    "        emotion_labels.append('disgust')\n",
    "    elif file[6:8]=='07' and int(file[18:20])%2==1:\n",
    "        emotion_labels.append('disgust')\n",
    "    elif file[6:8]=='08' and int(file[18:20])%2==0:\n",
    "        emotion_labels.append('surprised')\n",
    "    elif file[6:8]=='08' and int(file[18:20])%2==1:\n",
    "        emotion_labels.append('surprised')\n",
    "    else:\n",
    "        emotion_labels.append('unlabeled')"
   ]
  },
  {
   "cell_type": "code",
   "execution_count": 5,
   "metadata": {},
   "outputs": [],
   "source": [
    "labels = pd.DataFrame(emotion_labels, columns=['emotion_label'])"
   ]
  },
  {
   "cell_type": "code",
   "execution_count": 6,
   "metadata": {},
   "outputs": [],
   "source": [
    "labels['file'] = pd.Series(files)"
   ]
  },
  {
   "cell_type": "markdown",
   "metadata": {},
   "source": [
    "## Calculate Features\n",
    "Analysis uses Mel Frequency Cepstral Coefficients (MFCC) to calculate features."
   ]
  },
  {
   "cell_type": "code",
   "execution_count": 7,
   "metadata": {},
   "outputs": [],
   "source": [
    "df = pd.DataFrame(columns=['feature'])"
   ]
  },
  {
   "cell_type": "code",
   "execution_count": 8,
   "metadata": {},
   "outputs": [],
   "source": [
    "# set librosa parametrs\n",
    "offset = 0.5 # time (s) to offset audio file start\n",
    "duration = 2.5 # selected duration for each file (s)\n",
    "sr = 22050 # sample rate (Hz)\n",
    "n_mfcc = 13 # number of cepstral coefs to return\n",
    "frame_size = 0.025 # window size (s)\n",
    "n_fft = int(frame_size*sr) # number of frames\n",
    "frame_stride = 0.01 # stride size (s)\n",
    "hop_length = int(frame_stride*sr) # number of samples to hop per frame"
   ]
  },
  {
   "cell_type": "code",
   "execution_count": 10,
   "metadata": {},
   "outputs": [],
   "source": [
    "# calculate mfcc features for each file\n",
    "for index, file in enumerate(files[0:2]):\n",
    "    \n",
    "    y, sr = librosa.load('data/RAVDESS/' + file, duration=duration, sr=sr, offset=offset) # return sampled file data\n",
    "    if len(y) < duration*sr: \n",
    "        y = np.pad(y, (0, int(duration*sr - len(y))), 'constant') # for files < duration, pad with zero values\n",
    "    # return matrix of # mfccs x # frames\n",
    "    mfccs = librosa.feature.mfcc(y=y, sr=sr, n_mfcc=n_mfcc, n_fft=n_fft, hop_length=hop_length) \n",
    "    mfccs = preprocessing.scale(mfccs, axis=1) # scale coefficents\n",
    "    feature = mfccs.reshape(mfccs.shape[0] * mfccs.shape[1]) # reshape mfcc matrix into 1-D array\n",
    "    \n",
    "    df.loc[index] = [feature] # place feature array into dataframe"
   ]
  },
  {
   "cell_type": "code",
   "execution_count": 16,
   "metadata": {},
   "outputs": [
    {
     "data": {
      "text/plain": [
       "(13, 251)"
      ]
     },
     "execution_count": 16,
     "metadata": {},
     "output_type": "execute_result"
    }
   ],
   "source": [
    "mfccs.shape"
   ]
  },
  {
   "cell_type": "code",
   "execution_count": 11,
   "metadata": {},
   "outputs": [],
   "source": [
    "# create dataframe\n",
    "feat_df = pd.DataFrame(df['feature'].values.tolist())"
   ]
  },
  {
   "cell_type": "code",
   "execution_count": 12,
   "metadata": {},
   "outputs": [],
   "source": [
    "# add emotion lables\n",
    "feat_df = pd.concat([feat_df, labels.loc[:, 'emotion_label']], axis=1)"
   ]
  },
  {
   "cell_type": "code",
   "execution_count": 13,
   "metadata": {},
   "outputs": [
    {
     "data": {
      "text/html": [
       "<div>\n",
       "<style scoped>\n",
       "    .dataframe tbody tr th:only-of-type {\n",
       "        vertical-align: middle;\n",
       "    }\n",
       "\n",
       "    .dataframe tbody tr th {\n",
       "        vertical-align: top;\n",
       "    }\n",
       "\n",
       "    .dataframe thead th {\n",
       "        text-align: right;\n",
       "    }\n",
       "</style>\n",
       "<table border=\"1\" class=\"dataframe\">\n",
       "  <thead>\n",
       "    <tr style=\"text-align: right;\">\n",
       "      <th></th>\n",
       "      <th>0</th>\n",
       "      <th>1</th>\n",
       "      <th>2</th>\n",
       "      <th>3</th>\n",
       "      <th>4</th>\n",
       "      <th>5</th>\n",
       "      <th>6</th>\n",
       "      <th>7</th>\n",
       "      <th>8</th>\n",
       "      <th>9</th>\n",
       "      <th>...</th>\n",
       "      <th>3254</th>\n",
       "      <th>3255</th>\n",
       "      <th>3256</th>\n",
       "      <th>3257</th>\n",
       "      <th>3258</th>\n",
       "      <th>3259</th>\n",
       "      <th>3260</th>\n",
       "      <th>3261</th>\n",
       "      <th>3262</th>\n",
       "      <th>emotion_label</th>\n",
       "    </tr>\n",
       "  </thead>\n",
       "  <tbody>\n",
       "    <tr>\n",
       "      <th>0</th>\n",
       "      <td>-1.105108</td>\n",
       "      <td>-1.105108</td>\n",
       "      <td>-1.105108</td>\n",
       "      <td>-1.105108</td>\n",
       "      <td>-1.105108</td>\n",
       "      <td>-1.105108</td>\n",
       "      <td>-1.105108</td>\n",
       "      <td>-1.105108</td>\n",
       "      <td>-1.105108</td>\n",
       "      <td>-1.105108</td>\n",
       "      <td>...</td>\n",
       "      <td>-0.238322</td>\n",
       "      <td>-0.279292</td>\n",
       "      <td>-0.215209</td>\n",
       "      <td>-0.141943</td>\n",
       "      <td>-0.265668</td>\n",
       "      <td>-0.259120</td>\n",
       "      <td>-0.004098</td>\n",
       "      <td>-0.261109</td>\n",
       "      <td>-0.132365</td>\n",
       "      <td>neutral</td>\n",
       "    </tr>\n",
       "    <tr>\n",
       "      <th>1</th>\n",
       "      <td>-1.370970</td>\n",
       "      <td>-1.370970</td>\n",
       "      <td>-1.370970</td>\n",
       "      <td>-1.370970</td>\n",
       "      <td>-1.370970</td>\n",
       "      <td>-1.370970</td>\n",
       "      <td>-1.370970</td>\n",
       "      <td>-1.288133</td>\n",
       "      <td>-1.278144</td>\n",
       "      <td>-1.366667</td>\n",
       "      <td>...</td>\n",
       "      <td>0.188097</td>\n",
       "      <td>0.191922</td>\n",
       "      <td>0.896465</td>\n",
       "      <td>1.110646</td>\n",
       "      <td>1.218238</td>\n",
       "      <td>1.219607</td>\n",
       "      <td>0.731544</td>\n",
       "      <td>0.909255</td>\n",
       "      <td>1.093390</td>\n",
       "      <td>neutral</td>\n",
       "    </tr>\n",
       "    <tr>\n",
       "      <th>2</th>\n",
       "      <td>-1.328020</td>\n",
       "      <td>-1.328020</td>\n",
       "      <td>-1.328020</td>\n",
       "      <td>-1.328020</td>\n",
       "      <td>-1.328020</td>\n",
       "      <td>-1.328020</td>\n",
       "      <td>-1.328020</td>\n",
       "      <td>-1.328020</td>\n",
       "      <td>-1.328020</td>\n",
       "      <td>-1.328020</td>\n",
       "      <td>...</td>\n",
       "      <td>1.049234</td>\n",
       "      <td>0.867329</td>\n",
       "      <td>1.333470</td>\n",
       "      <td>1.060284</td>\n",
       "      <td>0.908868</td>\n",
       "      <td>1.061795</td>\n",
       "      <td>1.752833</td>\n",
       "      <td>0.271956</td>\n",
       "      <td>0.335296</td>\n",
       "      <td>neutral</td>\n",
       "    </tr>\n",
       "    <tr>\n",
       "      <th>3</th>\n",
       "      <td>-1.169856</td>\n",
       "      <td>-1.169856</td>\n",
       "      <td>-1.169856</td>\n",
       "      <td>-1.169856</td>\n",
       "      <td>-1.169856</td>\n",
       "      <td>-1.169856</td>\n",
       "      <td>-1.169856</td>\n",
       "      <td>-1.169856</td>\n",
       "      <td>-1.169856</td>\n",
       "      <td>-1.169856</td>\n",
       "      <td>...</td>\n",
       "      <td>0.659684</td>\n",
       "      <td>0.180330</td>\n",
       "      <td>0.673990</td>\n",
       "      <td>0.463311</td>\n",
       "      <td>0.469228</td>\n",
       "      <td>0.341113</td>\n",
       "      <td>0.554891</td>\n",
       "      <td>0.596502</td>\n",
       "      <td>0.689033</td>\n",
       "      <td>neutral</td>\n",
       "    </tr>\n",
       "    <tr>\n",
       "      <th>4</th>\n",
       "      <td>-1.438135</td>\n",
       "      <td>-1.412139</td>\n",
       "      <td>-1.488253</td>\n",
       "      <td>-1.490683</td>\n",
       "      <td>-1.490683</td>\n",
       "      <td>-1.429146</td>\n",
       "      <td>-1.424162</td>\n",
       "      <td>-1.490102</td>\n",
       "      <td>-1.475640</td>\n",
       "      <td>-1.430225</td>\n",
       "      <td>...</td>\n",
       "      <td>0.647851</td>\n",
       "      <td>1.035051</td>\n",
       "      <td>0.521052</td>\n",
       "      <td>0.828227</td>\n",
       "      <td>-0.113310</td>\n",
       "      <td>0.352832</td>\n",
       "      <td>-0.114662</td>\n",
       "      <td>0.283366</td>\n",
       "      <td>0.342459</td>\n",
       "      <td>neutral</td>\n",
       "    </tr>\n",
       "  </tbody>\n",
       "</table>\n",
       "<p>5 rows × 3264 columns</p>\n",
       "</div>"
      ],
      "text/plain": [
       "          0         1         2         3         4         5         6  \\\n",
       "0 -1.105108 -1.105108 -1.105108 -1.105108 -1.105108 -1.105108 -1.105108   \n",
       "1 -1.370970 -1.370970 -1.370970 -1.370970 -1.370970 -1.370970 -1.370970   \n",
       "2 -1.328020 -1.328020 -1.328020 -1.328020 -1.328020 -1.328020 -1.328020   \n",
       "3 -1.169856 -1.169856 -1.169856 -1.169856 -1.169856 -1.169856 -1.169856   \n",
       "4 -1.438135 -1.412139 -1.488253 -1.490683 -1.490683 -1.429146 -1.424162   \n",
       "\n",
       "          7         8         9      ...            3254      3255      3256  \\\n",
       "0 -1.105108 -1.105108 -1.105108      ...       -0.238322 -0.279292 -0.215209   \n",
       "1 -1.288133 -1.278144 -1.366667      ...        0.188097  0.191922  0.896465   \n",
       "2 -1.328020 -1.328020 -1.328020      ...        1.049234  0.867329  1.333470   \n",
       "3 -1.169856 -1.169856 -1.169856      ...        0.659684  0.180330  0.673990   \n",
       "4 -1.490102 -1.475640 -1.430225      ...        0.647851  1.035051  0.521052   \n",
       "\n",
       "       3257      3258      3259      3260      3261      3262  emotion_label  \n",
       "0 -0.141943 -0.265668 -0.259120 -0.004098 -0.261109 -0.132365        neutral  \n",
       "1  1.110646  1.218238  1.219607  0.731544  0.909255  1.093390        neutral  \n",
       "2  1.060284  0.908868  1.061795  1.752833  0.271956  0.335296        neutral  \n",
       "3  0.463311  0.469228  0.341113  0.554891  0.596502  0.689033        neutral  \n",
       "4  0.828227 -0.113310  0.352832 -0.114662  0.283366  0.342459        neutral  \n",
       "\n",
       "[5 rows x 3264 columns]"
      ]
     },
     "execution_count": 13,
     "metadata": {},
     "output_type": "execute_result"
    }
   ],
   "source": [
    "feat_df.head()"
   ]
  },
  {
   "cell_type": "markdown",
   "metadata": {},
   "source": [
    "## Export data"
   ]
  },
  {
   "cell_type": "code",
   "execution_count": 14,
   "metadata": {},
   "outputs": [],
   "source": [
    "import pickle"
   ]
  },
  {
   "cell_type": "code",
   "execution_count": 15,
   "metadata": {},
   "outputs": [],
   "source": [
    "pickle_out = open(\"ravdess.pickle\", \"wb\")\n",
    "pickle.dump(feat_df, pickle_out)\n",
    "pickle_out.close()"
   ]
  },
  {
   "cell_type": "code",
   "execution_count": null,
   "metadata": {},
   "outputs": [],
   "source": []
  }
 ],
 "metadata": {
  "kernelspec": {
   "display_name": "Python 3",
   "language": "python",
   "name": "python3"
  },
  "language_info": {
   "codemirror_mode": {
    "name": "ipython",
    "version": 3
   },
   "file_extension": ".py",
   "mimetype": "text/x-python",
   "name": "python",
   "nbconvert_exporter": "python",
   "pygments_lexer": "ipython3",
   "version": "3.6.4"
  }
 },
 "nbformat": 4,
 "nbformat_minor": 2
}
